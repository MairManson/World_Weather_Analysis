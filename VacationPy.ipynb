{
 "cells": [
  {
   "cell_type": "code",
   "execution_count": 1,
   "metadata": {},
   "outputs": [],
   "source": [
    "# Import the dependencies.\n",
    "import pandas as pd\n",
    "import gmaps\n",
    "import requests\n",
    "# Import the API key.\n",
    "from config import g_key\n",
    "gmaps.configure(api_key=g_key)"
   ]
  },
  {
   "cell_type": "code",
   "execution_count": 2,
   "metadata": {},
   "outputs": [
    {
     "output_type": "execute_result",
     "data": {
      "text/plain": [
       "   City_ID     City Country                 Date      Lat       Lng  Max Temp  \\\n",
       "0        0  Mangrol      IN  2021-04-12 15:07:46  21.1167   70.1167     82.13   \n",
       "1        1  Kahului      US  2021-04-12 15:07:46  20.8947 -156.4700     60.80   \n",
       "2        2    Xudat      AZ  2021-04-12 15:07:47  41.6310   48.6810     51.82   \n",
       "3        3   Narsaq      GL  2021-04-12 15:07:47  60.9167  -46.0500     44.60   \n",
       "4        4  Ushuaia      AR  2021-04-12 15:05:10 -54.8000  -68.3000     46.40   \n",
       "\n",
       "   Humidity  Cloudiness  Wind Speed  \n",
       "0        60           0       17.00  \n",
       "1       100           1        5.68  \n",
       "2        78           0        2.21  \n",
       "3        31          20        5.75  \n",
       "4        49          20       17.27  "
      ],
      "text/html": "<div>\n<style scoped>\n    .dataframe tbody tr th:only-of-type {\n        vertical-align: middle;\n    }\n\n    .dataframe tbody tr th {\n        vertical-align: top;\n    }\n\n    .dataframe thead th {\n        text-align: right;\n    }\n</style>\n<table border=\"1\" class=\"dataframe\">\n  <thead>\n    <tr style=\"text-align: right;\">\n      <th></th>\n      <th>City_ID</th>\n      <th>City</th>\n      <th>Country</th>\n      <th>Date</th>\n      <th>Lat</th>\n      <th>Lng</th>\n      <th>Max Temp</th>\n      <th>Humidity</th>\n      <th>Cloudiness</th>\n      <th>Wind Speed</th>\n    </tr>\n  </thead>\n  <tbody>\n    <tr>\n      <th>0</th>\n      <td>0</td>\n      <td>Mangrol</td>\n      <td>IN</td>\n      <td>2021-04-12 15:07:46</td>\n      <td>21.1167</td>\n      <td>70.1167</td>\n      <td>82.13</td>\n      <td>60</td>\n      <td>0</td>\n      <td>17.00</td>\n    </tr>\n    <tr>\n      <th>1</th>\n      <td>1</td>\n      <td>Kahului</td>\n      <td>US</td>\n      <td>2021-04-12 15:07:46</td>\n      <td>20.8947</td>\n      <td>-156.4700</td>\n      <td>60.80</td>\n      <td>100</td>\n      <td>1</td>\n      <td>5.68</td>\n    </tr>\n    <tr>\n      <th>2</th>\n      <td>2</td>\n      <td>Xudat</td>\n      <td>AZ</td>\n      <td>2021-04-12 15:07:47</td>\n      <td>41.6310</td>\n      <td>48.6810</td>\n      <td>51.82</td>\n      <td>78</td>\n      <td>0</td>\n      <td>2.21</td>\n    </tr>\n    <tr>\n      <th>3</th>\n      <td>3</td>\n      <td>Narsaq</td>\n      <td>GL</td>\n      <td>2021-04-12 15:07:47</td>\n      <td>60.9167</td>\n      <td>-46.0500</td>\n      <td>44.60</td>\n      <td>31</td>\n      <td>20</td>\n      <td>5.75</td>\n    </tr>\n    <tr>\n      <th>4</th>\n      <td>4</td>\n      <td>Ushuaia</td>\n      <td>AR</td>\n      <td>2021-04-12 15:05:10</td>\n      <td>-54.8000</td>\n      <td>-68.3000</td>\n      <td>46.40</td>\n      <td>49</td>\n      <td>20</td>\n      <td>17.27</td>\n    </tr>\n  </tbody>\n</table>\n</div>"
     },
     "metadata": {},
     "execution_count": 2
    }
   ],
   "source": [
    "# Store the CSV you saved created in part one into a DataFrame.\n",
    "city_data_df = pd.read_csv(\"weather_data/cities.csv\")\n",
    "city_data_df.head()"
   ]
  },
  {
   "cell_type": "code",
   "execution_count": 3,
   "metadata": {},
   "outputs": [],
   "source": [
    "# Get the maximum temperature.\n",
    "max_temp = city_data_df[\"Max Temp\"]\n",
    "temps = []\n",
    "for temp in max_temp:\n",
    "    temps.append(max(temp, 0))"
   ]
  },
  {
   "cell_type": "code",
   "execution_count": 8,
   "metadata": {},
   "outputs": [
    {
     "output_type": "display_data",
     "data": {
      "text/plain": "Figure(layout=FigureLayout(height='420px'))",
      "application/vnd.jupyter.widget-view+json": {
       "version_major": 2,
       "version_minor": 0,
       "model_id": "13826dc031664487a7457bffed0abc72"
      }
     },
     "metadata": {}
    }
   ],
   "source": [
    "# Heatmap of temperature\n",
    "# Get the latitude and longitude.\n",
    "locations = city_data_df[[\"Lat\", \"Lng\"]]\n",
    "# Get the maximum temperature.\n",
    "max_temp = city_data_df[\"Max Temp\"]\n",
    "# Assign the figure variable.\n",
    "fig = gmaps.figure()\n",
    "# Assign the heatmap variable.\n",
    "heat_layer = gmaps.heatmap_layer(locations, weights=temps, dissipating=False, max_intensity=300, point_radius=4)\n",
    "# Add the heatmap layer.\n",
    "fig.add_layer(heat_layer)\n",
    "# Call the figure to plot the data.\n",
    "fig = gmaps.figure(center=(30.0, 31.0), zoom_level=1.5)\n",
    "fig"
   ]
  },
  {
   "cell_type": "code",
   "execution_count": 5,
   "metadata": {},
   "outputs": [
    {
     "output_type": "display_data",
     "data": {
      "text/plain": "Figure(layout=FigureLayout(height='420px'))",
      "application/vnd.jupyter.widget-view+json": {
       "version_major": 2,
       "version_minor": 0,
       "model_id": "bf29c888ce544587a07de13b5cef915d"
      }
     },
     "metadata": {}
    }
   ],
   "source": [
    "# Heatmap of percent humidity\n",
    "locations = city_data_df[[\"Lat\", \"Lng\"]]\n",
    "humidity = city_data_df[\"Humidity\"]\n",
    "fig = gmaps.figure(center=(30.0, 31.0), zoom_level=1.5)\n",
    "heat_layer = gmaps.heatmap_layer(locations, weights=humidity, dissipating=False, max_intensity=300, point_radius=4)\n",
    "\n",
    "fig.add_layer(heat_layer)\n",
    "# Call the figure to plot the data.\n",
    "fig"
   ]
  },
  {
   "cell_type": "code",
   "execution_count": 6,
   "metadata": {},
   "outputs": [
    {
     "output_type": "display_data",
     "data": {
      "text/plain": "Figure(layout=FigureLayout(height='420px'))",
      "application/vnd.jupyter.widget-view+json": {
       "version_major": 2,
       "version_minor": 0,
       "model_id": "299b653f0d854afa9bb23fd8e74d9a8a"
      }
     },
     "metadata": {}
    }
   ],
   "source": [
    "# Heatmap of percent humidity\n",
    "locations = city_data_df[[\"Lat\", \"Lng\"]]\n",
    "clouds = city_data_df[\"Cloudiness\"]\n",
    "fig = gmaps.figure(center=(30.0, 31.0), zoom_level=1.5)\n",
    "heat_layer = gmaps.heatmap_layer(locations, weights=clouds, dissipating=False, max_intensity=300, point_radius=4)\n",
    "\n",
    "fig.add_layer(heat_layer)\n",
    "# Call the figure to plot the data.\n",
    "fig"
   ]
  },
  {
   "cell_type": "code",
   "execution_count": 7,
   "metadata": {},
   "outputs": [
    {
     "output_type": "display_data",
     "data": {
      "text/plain": "Figure(layout=FigureLayout(height='420px'))",
      "application/vnd.jupyter.widget-view+json": {
       "version_major": 2,
       "version_minor": 0,
       "model_id": "174dc8f7148941f98c5590c7aac13717"
      }
     },
     "metadata": {}
    }
   ],
   "source": [
    "# Heatmap of percent humidity\n",
    "locations = city_data_df[[\"Lat\", \"Lng\"]]\n",
    "wind = city_data_df[\"Wind Speed\"]\n",
    "fig = gmaps.figure(center=(30.0, 31.0), zoom_level=1.5)\n",
    "heat_layer = gmaps.heatmap_layer(locations, weights=wind, dissipating=False, max_intensity=300, point_radius=4)\n",
    "\n",
    "fig.add_layer(heat_layer)\n",
    "# Call the figure to plot the data.\n",
    "fig"
   ]
  },
  {
   "cell_type": "code",
   "execution_count": 10,
   "metadata": {},
   "outputs": [],
   "source": [
    "# Ask the customer to add a minimum and maximum temperature value.\n",
    "min_temp = float(input(\"What is the minimum temperature you would like for your trip? \"))\n",
    "max_temp = float(input(\"What is the maximum temperature you would like for your trip? \"))"
   ]
  },
  {
   "cell_type": "code",
   "execution_count": 11,
   "metadata": {},
   "outputs": [
    {
     "output_type": "execute_result",
     "data": {
      "text/plain": [
       "    City_ID          City Country                 Date      Lat       Lng  \\\n",
       "0         0       Mangrol      IN  2021-04-12 15:07:46  21.1167   70.1167   \n",
       "5         5        Faanui      PF  2021-04-12 15:07:47 -16.4833 -151.7500   \n",
       "10       10    Vila Velha      BR  2021-04-12 15:07:24 -20.3297  -40.2925   \n",
       "15       15      Takoradi      GH  2021-04-12 15:07:49   4.8845   -1.7554   \n",
       "16       16        Castro      BR  2021-04-12 15:07:50 -24.7911  -50.0119   \n",
       "23       23        Yarada      IN  2021-04-12 15:07:51  17.6500   83.2667   \n",
       "25       25  San Patricio      US  2021-04-12 15:07:52  28.0170  -97.5169   \n",
       "32       32   Finschhafen      PG  2021-04-12 15:07:53  -6.6024  147.8681   \n",
       "40       40     Hithadhoo      MV  2021-04-12 15:05:49  -0.6000   73.0833   \n",
       "48       48       Rikitea      PF  2021-04-12 15:07:57 -23.1203 -134.9692   \n",
       "\n",
       "    Max Temp  Humidity  Cloudiness  Wind Speed  \n",
       "0      82.13        60           0       17.00  \n",
       "5      82.18        72         100       11.07  \n",
       "10     89.60        45          20        6.91  \n",
       "15     86.97        65          59        8.77  \n",
       "16     77.27        61          16        6.89  \n",
       "23     84.20        74          75        4.61  \n",
       "25     80.60        78           1       10.36  \n",
       "32     77.76        84         100        2.95  \n",
       "40     84.06        68          97       10.45  \n",
       "48     77.97        71          14        9.42  "
      ],
      "text/html": "<div>\n<style scoped>\n    .dataframe tbody tr th:only-of-type {\n        vertical-align: middle;\n    }\n\n    .dataframe tbody tr th {\n        vertical-align: top;\n    }\n\n    .dataframe thead th {\n        text-align: right;\n    }\n</style>\n<table border=\"1\" class=\"dataframe\">\n  <thead>\n    <tr style=\"text-align: right;\">\n      <th></th>\n      <th>City_ID</th>\n      <th>City</th>\n      <th>Country</th>\n      <th>Date</th>\n      <th>Lat</th>\n      <th>Lng</th>\n      <th>Max Temp</th>\n      <th>Humidity</th>\n      <th>Cloudiness</th>\n      <th>Wind Speed</th>\n    </tr>\n  </thead>\n  <tbody>\n    <tr>\n      <th>0</th>\n      <td>0</td>\n      <td>Mangrol</td>\n      <td>IN</td>\n      <td>2021-04-12 15:07:46</td>\n      <td>21.1167</td>\n      <td>70.1167</td>\n      <td>82.13</td>\n      <td>60</td>\n      <td>0</td>\n      <td>17.00</td>\n    </tr>\n    <tr>\n      <th>5</th>\n      <td>5</td>\n      <td>Faanui</td>\n      <td>PF</td>\n      <td>2021-04-12 15:07:47</td>\n      <td>-16.4833</td>\n      <td>-151.7500</td>\n      <td>82.18</td>\n      <td>72</td>\n      <td>100</td>\n      <td>11.07</td>\n    </tr>\n    <tr>\n      <th>10</th>\n      <td>10</td>\n      <td>Vila Velha</td>\n      <td>BR</td>\n      <td>2021-04-12 15:07:24</td>\n      <td>-20.3297</td>\n      <td>-40.2925</td>\n      <td>89.60</td>\n      <td>45</td>\n      <td>20</td>\n      <td>6.91</td>\n    </tr>\n    <tr>\n      <th>15</th>\n      <td>15</td>\n      <td>Takoradi</td>\n      <td>GH</td>\n      <td>2021-04-12 15:07:49</td>\n      <td>4.8845</td>\n      <td>-1.7554</td>\n      <td>86.97</td>\n      <td>65</td>\n      <td>59</td>\n      <td>8.77</td>\n    </tr>\n    <tr>\n      <th>16</th>\n      <td>16</td>\n      <td>Castro</td>\n      <td>BR</td>\n      <td>2021-04-12 15:07:50</td>\n      <td>-24.7911</td>\n      <td>-50.0119</td>\n      <td>77.27</td>\n      <td>61</td>\n      <td>16</td>\n      <td>6.89</td>\n    </tr>\n    <tr>\n      <th>23</th>\n      <td>23</td>\n      <td>Yarada</td>\n      <td>IN</td>\n      <td>2021-04-12 15:07:51</td>\n      <td>17.6500</td>\n      <td>83.2667</td>\n      <td>84.20</td>\n      <td>74</td>\n      <td>75</td>\n      <td>4.61</td>\n    </tr>\n    <tr>\n      <th>25</th>\n      <td>25</td>\n      <td>San Patricio</td>\n      <td>US</td>\n      <td>2021-04-12 15:07:52</td>\n      <td>28.0170</td>\n      <td>-97.5169</td>\n      <td>80.60</td>\n      <td>78</td>\n      <td>1</td>\n      <td>10.36</td>\n    </tr>\n    <tr>\n      <th>32</th>\n      <td>32</td>\n      <td>Finschhafen</td>\n      <td>PG</td>\n      <td>2021-04-12 15:07:53</td>\n      <td>-6.6024</td>\n      <td>147.8681</td>\n      <td>77.76</td>\n      <td>84</td>\n      <td>100</td>\n      <td>2.95</td>\n    </tr>\n    <tr>\n      <th>40</th>\n      <td>40</td>\n      <td>Hithadhoo</td>\n      <td>MV</td>\n      <td>2021-04-12 15:05:49</td>\n      <td>-0.6000</td>\n      <td>73.0833</td>\n      <td>84.06</td>\n      <td>68</td>\n      <td>97</td>\n      <td>10.45</td>\n    </tr>\n    <tr>\n      <th>48</th>\n      <td>48</td>\n      <td>Rikitea</td>\n      <td>PF</td>\n      <td>2021-04-12 15:07:57</td>\n      <td>-23.1203</td>\n      <td>-134.9692</td>\n      <td>77.97</td>\n      <td>71</td>\n      <td>14</td>\n      <td>9.42</td>\n    </tr>\n  </tbody>\n</table>\n</div>"
     },
     "metadata": {},
     "execution_count": 11
    }
   ],
   "source": [
    "# Filter the dataset to find the cities that fit the criteria.\n",
    "preferred_cities_df = city_data_df.loc[(city_data_df[\"Max Temp\"] <= max_temp) & \\\n",
    "                                       (city_data_df[\"Max Temp\"] >= min_temp)]\n",
    "preferred_cities_df.head(10)"
   ]
  },
  {
   "cell_type": "code",
   "execution_count": 12,
   "metadata": {},
   "outputs": [
    {
     "output_type": "execute_result",
     "data": {
      "text/plain": [
       "City_ID       179\n",
       "City          179\n",
       "Country       177\n",
       "Date          179\n",
       "Lat           179\n",
       "Lng           179\n",
       "Max Temp      179\n",
       "Humidity      179\n",
       "Cloudiness    179\n",
       "Wind Speed    179\n",
       "dtype: int64"
      ]
     },
     "metadata": {},
     "execution_count": 12
    }
   ],
   "source": [
    "preferred_cities_df.count()"
   ]
  },
  {
   "cell_type": "code",
   "execution_count": 13,
   "metadata": {},
   "outputs": [
    {
     "output_type": "execute_result",
     "data": {
      "text/plain": [
       "            City Country  Max Temp      Lat       Lng Hotel Name\n",
       "0        Mangrol      IN     82.13  21.1167   70.1167           \n",
       "5         Faanui      PF     82.18 -16.4833 -151.7500           \n",
       "10    Vila Velha      BR     89.60 -20.3297  -40.2925           \n",
       "15      Takoradi      GH     86.97   4.8845   -1.7554           \n",
       "16        Castro      BR     77.27 -24.7911  -50.0119           \n",
       "23        Yarada      IN     84.20  17.6500   83.2667           \n",
       "25  San Patricio      US     80.60  28.0170  -97.5169           \n",
       "32   Finschhafen      PG     77.76  -6.6024  147.8681           \n",
       "40     Hithadhoo      MV     84.06  -0.6000   73.0833           \n",
       "48       Rikitea      PF     77.97 -23.1203 -134.9692           "
      ],
      "text/html": "<div>\n<style scoped>\n    .dataframe tbody tr th:only-of-type {\n        vertical-align: middle;\n    }\n\n    .dataframe tbody tr th {\n        vertical-align: top;\n    }\n\n    .dataframe thead th {\n        text-align: right;\n    }\n</style>\n<table border=\"1\" class=\"dataframe\">\n  <thead>\n    <tr style=\"text-align: right;\">\n      <th></th>\n      <th>City</th>\n      <th>Country</th>\n      <th>Max Temp</th>\n      <th>Lat</th>\n      <th>Lng</th>\n      <th>Hotel Name</th>\n    </tr>\n  </thead>\n  <tbody>\n    <tr>\n      <th>0</th>\n      <td>Mangrol</td>\n      <td>IN</td>\n      <td>82.13</td>\n      <td>21.1167</td>\n      <td>70.1167</td>\n      <td></td>\n    </tr>\n    <tr>\n      <th>5</th>\n      <td>Faanui</td>\n      <td>PF</td>\n      <td>82.18</td>\n      <td>-16.4833</td>\n      <td>-151.7500</td>\n      <td></td>\n    </tr>\n    <tr>\n      <th>10</th>\n      <td>Vila Velha</td>\n      <td>BR</td>\n      <td>89.60</td>\n      <td>-20.3297</td>\n      <td>-40.2925</td>\n      <td></td>\n    </tr>\n    <tr>\n      <th>15</th>\n      <td>Takoradi</td>\n      <td>GH</td>\n      <td>86.97</td>\n      <td>4.8845</td>\n      <td>-1.7554</td>\n      <td></td>\n    </tr>\n    <tr>\n      <th>16</th>\n      <td>Castro</td>\n      <td>BR</td>\n      <td>77.27</td>\n      <td>-24.7911</td>\n      <td>-50.0119</td>\n      <td></td>\n    </tr>\n    <tr>\n      <th>23</th>\n      <td>Yarada</td>\n      <td>IN</td>\n      <td>84.20</td>\n      <td>17.6500</td>\n      <td>83.2667</td>\n      <td></td>\n    </tr>\n    <tr>\n      <th>25</th>\n      <td>San Patricio</td>\n      <td>US</td>\n      <td>80.60</td>\n      <td>28.0170</td>\n      <td>-97.5169</td>\n      <td></td>\n    </tr>\n    <tr>\n      <th>32</th>\n      <td>Finschhafen</td>\n      <td>PG</td>\n      <td>77.76</td>\n      <td>-6.6024</td>\n      <td>147.8681</td>\n      <td></td>\n    </tr>\n    <tr>\n      <th>40</th>\n      <td>Hithadhoo</td>\n      <td>MV</td>\n      <td>84.06</td>\n      <td>-0.6000</td>\n      <td>73.0833</td>\n      <td></td>\n    </tr>\n    <tr>\n      <th>48</th>\n      <td>Rikitea</td>\n      <td>PF</td>\n      <td>77.97</td>\n      <td>-23.1203</td>\n      <td>-134.9692</td>\n      <td></td>\n    </tr>\n  </tbody>\n</table>\n</div>"
     },
     "metadata": {},
     "execution_count": 13
    }
   ],
   "source": [
    "# Create DataFrame called hotel_df to store hotel names along with city, country, max temp, and coordinates.\n",
    "hotel_df = preferred_cities_df[[\"City\", \"Country\", \"Max Temp\", \"Lat\", \"Lng\"]].copy()\n",
    "hotel_df[\"Hotel Name\"] = \"\"\n",
    "hotel_df.head(10)"
   ]
  },
  {
   "cell_type": "code",
   "execution_count": null,
   "metadata": {},
   "outputs": [],
   "source": [
    "requests.get('base URL', params=parameters)"
   ]
  },
  {
   "cell_type": "code",
   "execution_count": 20,
   "metadata": {},
   "outputs": [
    {
     "output_type": "stream",
     "name": "stdout",
     "text": [
      "Hotel not found... skipping.\n",
      "Hotel not found... skipping.\n",
      "Hotel not found... skipping.\n",
      "Hotel not found... skipping.\n",
      "Hotel not found... skipping.\n",
      "Hotel not found... skipping.\n",
      "Hotel not found... skipping.\n",
      "Hotel not found... skipping.\n",
      "Hotel not found... skipping.\n",
      "Hotel not found... skipping.\n",
      "Hotel not found... skipping.\n",
      "Hotel not found... skipping.\n",
      "Hotel not found... skipping.\n"
     ]
    }
   ],
   "source": [
    "# Set parameters to search for a hotel.\n",
    "params = {\n",
    "    \"radius\": 5000,\n",
    "    \"type\": \"lodging\",\n",
    "    \"key\": g_key\n",
    "}\n",
    "# Iterate through the DataFrame.\n",
    "for index, row in hotel_df.iterrows():\n",
    "    # Get the latitude and longitude.\n",
    "    lat = row[\"Lat\"]\n",
    "    lng = row[\"Lng\"]\n",
    "\n",
    "    # Add the latitude and longitude to location key for the params dictionary.\n",
    "    params[\"location\"] = f\"{lat},{lng}\"\n",
    "\n",
    "    # Use the search term: \"lodging\" and our latitude and longitude.\n",
    "    base_url = \"https://maps.googleapis.com/maps/api/place/nearbysearch/json\"\n",
    "    # Make request and get the JSON data from the search.\n",
    "    hotels = requests.get(base_url, params=params).json()\n",
    "\n",
    "    # Grab the first hotel from the results and store the name.\n",
    "    try:\n",
    "        hotel_df.loc[index, \"Hotel Name\"] = hotels[\"results\"][0][\"name\"]\n",
    "\n",
    "    except (IndexError):\n",
    "        print(\"Hotel not found... skipping.\")\n",
    "    \n"
   ]
  },
  {
   "cell_type": "code",
   "execution_count": 21,
   "metadata": {},
   "outputs": [
    {
     "output_type": "execute_result",
     "data": {
      "text/plain": [
       "            City Country  Max Temp      Lat       Lng  \\\n",
       "0        Mangrol      IN     82.13  21.1167   70.1167   \n",
       "5         Faanui      PF     82.18 -16.4833 -151.7500   \n",
       "10    Vila Velha      BR     89.60 -20.3297  -40.2925   \n",
       "15      Takoradi      GH     86.97   4.8845   -1.7554   \n",
       "16        Castro      BR     77.27 -24.7911  -50.0119   \n",
       "23        Yarada      IN     84.20  17.6500   83.2667   \n",
       "25  San Patricio      US     80.60  28.0170  -97.5169   \n",
       "32   Finschhafen      PG     77.76  -6.6024  147.8681   \n",
       "40     Hithadhoo      MV     84.06  -0.6000   73.0833   \n",
       "48       Rikitea      PF     77.97 -23.1203 -134.9692   \n",
       "\n",
       "                            Hotel Name  \n",
       "0              Hotel The Royal Honours  \n",
       "5   Bora-Bora Pearl Beach Resort & Spa  \n",
       "10           Quality Suites Vila Velha  \n",
       "15          Raybow International Hotel  \n",
       "16                      CHACARA BAILLY  \n",
       "23                              Jeevan  \n",
       "25                  Motel 6 Sinton, TX  \n",
       "32                  Cossam Guest House  \n",
       "40                   Scoop Guest House  \n",
       "48                      Pension Maro'i  "
      ],
      "text/html": "<div>\n<style scoped>\n    .dataframe tbody tr th:only-of-type {\n        vertical-align: middle;\n    }\n\n    .dataframe tbody tr th {\n        vertical-align: top;\n    }\n\n    .dataframe thead th {\n        text-align: right;\n    }\n</style>\n<table border=\"1\" class=\"dataframe\">\n  <thead>\n    <tr style=\"text-align: right;\">\n      <th></th>\n      <th>City</th>\n      <th>Country</th>\n      <th>Max Temp</th>\n      <th>Lat</th>\n      <th>Lng</th>\n      <th>Hotel Name</th>\n    </tr>\n  </thead>\n  <tbody>\n    <tr>\n      <th>0</th>\n      <td>Mangrol</td>\n      <td>IN</td>\n      <td>82.13</td>\n      <td>21.1167</td>\n      <td>70.1167</td>\n      <td>Hotel The Royal Honours</td>\n    </tr>\n    <tr>\n      <th>5</th>\n      <td>Faanui</td>\n      <td>PF</td>\n      <td>82.18</td>\n      <td>-16.4833</td>\n      <td>-151.7500</td>\n      <td>Bora-Bora Pearl Beach Resort &amp; Spa</td>\n    </tr>\n    <tr>\n      <th>10</th>\n      <td>Vila Velha</td>\n      <td>BR</td>\n      <td>89.60</td>\n      <td>-20.3297</td>\n      <td>-40.2925</td>\n      <td>Quality Suites Vila Velha</td>\n    </tr>\n    <tr>\n      <th>15</th>\n      <td>Takoradi</td>\n      <td>GH</td>\n      <td>86.97</td>\n      <td>4.8845</td>\n      <td>-1.7554</td>\n      <td>Raybow International Hotel</td>\n    </tr>\n    <tr>\n      <th>16</th>\n      <td>Castro</td>\n      <td>BR</td>\n      <td>77.27</td>\n      <td>-24.7911</td>\n      <td>-50.0119</td>\n      <td>CHACARA BAILLY</td>\n    </tr>\n    <tr>\n      <th>23</th>\n      <td>Yarada</td>\n      <td>IN</td>\n      <td>84.20</td>\n      <td>17.6500</td>\n      <td>83.2667</td>\n      <td>Jeevan</td>\n    </tr>\n    <tr>\n      <th>25</th>\n      <td>San Patricio</td>\n      <td>US</td>\n      <td>80.60</td>\n      <td>28.0170</td>\n      <td>-97.5169</td>\n      <td>Motel 6 Sinton, TX</td>\n    </tr>\n    <tr>\n      <th>32</th>\n      <td>Finschhafen</td>\n      <td>PG</td>\n      <td>77.76</td>\n      <td>-6.6024</td>\n      <td>147.8681</td>\n      <td>Cossam Guest House</td>\n    </tr>\n    <tr>\n      <th>40</th>\n      <td>Hithadhoo</td>\n      <td>MV</td>\n      <td>84.06</td>\n      <td>-0.6000</td>\n      <td>73.0833</td>\n      <td>Scoop Guest House</td>\n    </tr>\n    <tr>\n      <th>48</th>\n      <td>Rikitea</td>\n      <td>PF</td>\n      <td>77.97</td>\n      <td>-23.1203</td>\n      <td>-134.9692</td>\n      <td>Pension Maro'i</td>\n    </tr>\n  </tbody>\n</table>\n</div>"
     },
     "metadata": {},
     "execution_count": 21
    }
   ],
   "source": [
    "hotel_df.head(10)"
   ]
  },
  {
   "cell_type": "code",
   "execution_count": 24,
   "metadata": {},
   "outputs": [
    {
     "output_type": "display_data",
     "data": {
      "text/plain": "Figure(layout=FigureLayout(height='420px'))",
      "application/vnd.jupyter.widget-view+json": {
       "version_major": 2,
       "version_minor": 0,
       "model_id": "d312356375b142c88b3203418dfaeeba"
      }
     },
     "metadata": {}
    }
   ],
   "source": [
    "# Add a heatmap of temperature for the vacation spots and marker for each city.\n",
    "locations = hotel_df[[\"Lat\", \"Lng\"]]\n",
    "max_temp = hotel_df[\"Max Temp\"]\n",
    "fig = gmaps.figure(center=(30.0, 31.0), zoom_level=1.5)\n",
    "heat_layer = gmaps.heatmap_layer(locations, weights=max_temp,\n",
    "             dissipating=False, max_intensity=300, point_radius=4)\n",
    "\n",
    "info_box_template = \"\"\"\n",
    "<dl>\n",
    "<dt>Hotel Name</dt><dd>{Hotel Name}</dd>\n",
    "<dt>City</dt><dd>{City}</dd>\n",
    "<dt>Country</dt><dd>{Country}</dd>\n",
    "<dt>Max Temp</dt><dd>{Max Temp} °F</dd>\n",
    "</dl>\n",
    "\"\"\"\n",
    "\n",
    "# Store the DataFrame Row.\n",
    "hotel_info = [info_box_template.format(**row) for index, row in hotel_df.iterrows()]\n",
    "\n",
    "marker_layer = gmaps.marker_layer(locations, info_box_content=hotel_info)\n",
    "fig.add_layer(heat_layer)\n",
    "fig.add_layer(marker_layer)\n",
    "\n",
    "# Call the figure to plot the data.\n",
    "fig"
   ]
  },
  {
   "cell_type": "code",
   "execution_count": null,
   "metadata": {},
   "outputs": [],
   "source": []
  }
 ],
 "metadata": {
  "kernelspec": {
   "name": "python379jvsc74a57bd0a9fffb1ace5d2ccf1d9207a256a25b07ceddc0aabe7ee6c8bafea7a62de072e2",
   "display_name": "Python 3.7.9 64-bit ('ConPythonData': conda)"
  },
  "language_info": {
   "codemirror_mode": {
    "name": "ipython",
    "version": 3
   },
   "file_extension": ".py",
   "mimetype": "text/x-python",
   "name": "python",
   "nbconvert_exporter": "python",
   "pygments_lexer": "ipython3",
   "version": "3.7.9"
  }
 },
 "nbformat": 4,
 "nbformat_minor": 2
}